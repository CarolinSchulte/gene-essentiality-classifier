{
 "cells": [
  {
   "cell_type": "markdown",
   "metadata": {},
   "source": [
    "# Essential gene classifier"
   ]
  },
  {
   "cell_type": "markdown",
   "metadata": {},
   "source": [
    "Using experimentally determined gene essentiality data for prokaryotes from the [Online Gene Essentiality (OGEE) database](https://v3.ogee.info/#/home). Nucleotide and amino acid sequences are featurised to train logistic regression, Random Forest and XGBoost models as well as a feed-forward neural network. "
   ]
  },
  {
   "cell_type": "code",
   "execution_count": 1,
   "metadata": {
    "id": "8dn2QJcwN3fj"
   },
   "outputs": [
    {
     "name": "stderr",
     "output_type": "stream",
     "text": [
      "/home/carolin/miniconda3/envs/tf/lib/python3.9/site-packages/xgboost/compat.py:36: FutureWarning: pandas.Int64Index is deprecated and will be removed from pandas in a future version. Use pandas.Index with the appropriate dtype instead.\n",
      "  from pandas import MultiIndex, Int64Index\n"
     ]
    }
   ],
   "source": [
    "import os\n",
    "import warnings\n",
    "import math\n",
    "import itertools\n",
    "import matplotlib\n",
    "import matplotlib.pyplot as plt\n",
    "import pandas as pd\n",
    "import numpy as np\n",
    "import optuna\n",
    "from Bio.SeqUtils.CodonUsage import CodonAdaptationIndex\n",
    "import sklearn\n",
    "from sklearn.preprocessing import StandardScaler\n",
    "from sklearn.ensemble import RandomForestClassifier\n",
    "from sklearn.model_selection import train_test_split, GroupShuffleSplit\n",
    "from sklearn.linear_model import LogisticRegression\n",
    "from sklearn.metrics import confusion_matrix, ConfusionMatrixDisplay, roc_auc_score, classification_report\n",
    "from keras.models import Sequential\n",
    "from keras.layers import Dense, Dropout\n",
    "from keras.utils import to_categorical\n",
    "from keras.optimizers import Adam\n",
    "from keras.callbacks import EarlyStopping\n",
    "from imblearn.over_sampling import RandomOverSampler\n",
    "from xgboost import XGBClassifier\n",
    "warnings.filterwarnings(\"ignore\")"
   ]
  },
  {
   "cell_type": "markdown",
   "metadata": {
    "id": "uqNDlpDjN2qr"
   },
   "source": [
    "# Import Data"
   ]
  },
  {
   "cell_type": "code",
   "execution_count": 6,
   "metadata": {
    "colab": {
     "base_uri": "https://localhost:8080/"
    },
    "executionInfo": {
     "elapsed": 13098,
     "status": "ok",
     "timestamp": 1652034260484,
     "user": {
      "displayName": "Ian Lo",
      "userId": "05875249287392026449"
     },
     "user_tz": 240
    },
    "id": "abDAeaomtajL",
    "outputId": "97cf6026-8ff0-44f0-8061-8c9eaa0c4aee"
   },
   "outputs": [],
   "source": [
    "df = pd.read_csv('df_ortholog.csv') \n",
    "\n",
    "# filter out gene sequences whose lengths aren't multiples of 3\n",
    "df = df[df['gene_sequence'].map(len)%3==0]\n",
    "\n",
    "# filter out gene sequences that contain non ATGC letters\n",
    "nonATGC = [any(letter not in ['A','T','G','C'] for letter in seq) for seq in df[\"gene_sequence\"]]\n",
    "datafilter = [not elem for elem in nonATGC]\n",
    "data = df[datafilter]\n",
    "\n",
    "# binarize strand\n",
    "lb = sklearn.preprocessing.LabelBinarizer()\n",
    "lb.fit([0, 1])\n",
    "data[\"strand\"] = lb.transform(data[[\"strand\"]])\n",
    "\n",
    "# create dummy variables for operon position\n",
    "data = pd.get_dummies(data, columns=['operon_pos'], drop_first=True)\n",
    "\n",
    "# recode essentiality as 0 (non-essential) and 1 (essential)\n",
    "data['essentiality'] = data['essentiality'].astype('category')\n",
    "data['essentiality'].replace({'E': 1,'NE': 0}, inplace=True)\n",
    "\n",
    "data = data.iloc[:,2:].reset_index()\n",
    "data = data[['geneID', 'SpeciesName', 'locus', 'gene', 'Gram','Taxonomy', 'taxaID', 'gene_sequence',\n",
    "              'protein_sequence','strand','orthogroup','operon_pos_1','operon_pos_2','essentiality',]]\n"
   ]
  },
  {
   "cell_type": "code",
   "execution_count": 7,
   "metadata": {
    "colab": {
     "base_uri": "https://localhost:8080/"
    },
    "executionInfo": {
     "elapsed": 43,
     "status": "ok",
     "timestamp": 1652034260486,
     "user": {
      "displayName": "Ian Lo",
      "userId": "05875249287392026449"
     },
     "user_tz": 240
    },
    "id": "L2Bt2AjtN05G",
    "outputId": "117d0fd7-cada-47f8-d161-c3a8d50af295"
   },
   "outputs": [
    {
     "data": {
      "text/html": [
       "<div>\n",
       "<style scoped>\n",
       "    .dataframe tbody tr th:only-of-type {\n",
       "        vertical-align: middle;\n",
       "    }\n",
       "\n",
       "    .dataframe tbody tr th {\n",
       "        vertical-align: top;\n",
       "    }\n",
       "\n",
       "    .dataframe thead th {\n",
       "        text-align: right;\n",
       "    }\n",
       "</style>\n",
       "<table border=\"1\" class=\"dataframe\">\n",
       "  <thead>\n",
       "    <tr style=\"text-align: right;\">\n",
       "      <th></th>\n",
       "      <th>geneID</th>\n",
       "      <th>SpeciesName</th>\n",
       "      <th>locus</th>\n",
       "      <th>gene</th>\n",
       "      <th>Gram</th>\n",
       "      <th>Taxonomy</th>\n",
       "      <th>taxaID</th>\n",
       "      <th>gene_sequence</th>\n",
       "      <th>protein_sequence</th>\n",
       "      <th>strand</th>\n",
       "      <th>orthogroup</th>\n",
       "      <th>operon_pos_1</th>\n",
       "      <th>operon_pos_2</th>\n",
       "      <th>essentiality</th>\n",
       "    </tr>\n",
       "  </thead>\n",
       "  <tbody>\n",
       "    <tr>\n",
       "      <th>0</th>\n",
       "      <td>Bacteroides fragilis 638R_BF638R_0014</td>\n",
       "      <td>Bacteroides fragilis 638R</td>\n",
       "      <td>BF638R_0014</td>\n",
       "      <td>NaN</td>\n",
       "      <td>GN</td>\n",
       "      <td>Bacteroidetes</td>\n",
       "      <td>862962</td>\n",
       "      <td>ATGACTATTATTTTTCCTTCTCCTATATTCGGACCGGTTCATTCAC...</td>\n",
       "      <td>MTIIFPSPIFGPVHSRRLGVSLGINLLPSDGKVCSFDCIYCECGYN...</td>\n",
       "      <td>1</td>\n",
       "      <td>OG0003967</td>\n",
       "      <td>0</td>\n",
       "      <td>1</td>\n",
       "      <td>1</td>\n",
       "    </tr>\n",
       "    <tr>\n",
       "      <th>1</th>\n",
       "      <td>Bacteroides fragilis 638R_BF638R_0030</td>\n",
       "      <td>Bacteroides fragilis 638R</td>\n",
       "      <td>BF638R_0030</td>\n",
       "      <td>NaN</td>\n",
       "      <td>GN</td>\n",
       "      <td>Bacteroidetes</td>\n",
       "      <td>862962</td>\n",
       "      <td>ATGTTACTTCTTTATATGGCATCATTATCTGAGTCCATATACCCGG...</td>\n",
       "      <td>MLLLYMASLSESIYPGSSARIPGLMGLCTRDDGHRYAGRDKEKTIF...</td>\n",
       "      <td>0</td>\n",
       "      <td>NaN</td>\n",
       "      <td>0</td>\n",
       "      <td>0</td>\n",
       "      <td>1</td>\n",
       "    </tr>\n",
       "    <tr>\n",
       "      <th>2</th>\n",
       "      <td>Bacteroides fragilis 638R_BF638R_0032</td>\n",
       "      <td>Bacteroides fragilis 638R</td>\n",
       "      <td>BF638R_0032</td>\n",
       "      <td>NaN</td>\n",
       "      <td>GN</td>\n",
       "      <td>Bacteroidetes</td>\n",
       "      <td>862962</td>\n",
       "      <td>ATGACAAAAGGATCTTTATTACGAAAAAGATATACATCGCAATTCT...</td>\n",
       "      <td>MTKGSLLRKRYTSQFCTKYYPFLLKDYTQSGCSKNHILAATTIVKI...</td>\n",
       "      <td>0</td>\n",
       "      <td>NaN</td>\n",
       "      <td>0</td>\n",
       "      <td>1</td>\n",
       "      <td>1</td>\n",
       "    </tr>\n",
       "    <tr>\n",
       "      <th>3</th>\n",
       "      <td>Bacteroides fragilis 638R_BF638R_0042</td>\n",
       "      <td>Bacteroides fragilis 638R</td>\n",
       "      <td>BF638R_0042</td>\n",
       "      <td>NaN</td>\n",
       "      <td>GN</td>\n",
       "      <td>Bacteroidetes</td>\n",
       "      <td>862962</td>\n",
       "      <td>ATGAGTAAAAAGATTTTTGCGGCCCTGATAGTCGCTGTAGTCGCAA...</td>\n",
       "      <td>MSKKIFAALIVAVVATFAGYNIYQSQRVESIMSDLTMANVEALAGS...</td>\n",
       "      <td>1</td>\n",
       "      <td>OG0006518</td>\n",
       "      <td>0</td>\n",
       "      <td>0</td>\n",
       "      <td>1</td>\n",
       "    </tr>\n",
       "    <tr>\n",
       "      <th>4</th>\n",
       "      <td>Bacteroides fragilis 638R_BF638R_0051</td>\n",
       "      <td>Bacteroides fragilis 638R</td>\n",
       "      <td>BF638R_0051</td>\n",
       "      <td>NaN</td>\n",
       "      <td>GN</td>\n",
       "      <td>Bacteroidetes</td>\n",
       "      <td>862962</td>\n",
       "      <td>ATGAATAAACTCACTATAAATGCCTGTCCGCTATGTGGGGGCGCAC...</td>\n",
       "      <td>MNKLTINACPLCGGAHLKRAMTCTDFYASGEQFDLYTCEDCGFTFT...</td>\n",
       "      <td>1</td>\n",
       "      <td>OG0000156</td>\n",
       "      <td>0</td>\n",
       "      <td>1</td>\n",
       "      <td>1</td>\n",
       "    </tr>\n",
       "  </tbody>\n",
       "</table>\n",
       "</div>"
      ],
      "text/plain": [
       "                                  geneID                SpeciesName  \\\n",
       "0  Bacteroides fragilis 638R_BF638R_0014  Bacteroides fragilis 638R   \n",
       "1  Bacteroides fragilis 638R_BF638R_0030  Bacteroides fragilis 638R   \n",
       "2  Bacteroides fragilis 638R_BF638R_0032  Bacteroides fragilis 638R   \n",
       "3  Bacteroides fragilis 638R_BF638R_0042  Bacteroides fragilis 638R   \n",
       "4  Bacteroides fragilis 638R_BF638R_0051  Bacteroides fragilis 638R   \n",
       "\n",
       "         locus gene Gram       Taxonomy  taxaID  \\\n",
       "0  BF638R_0014  NaN   GN  Bacteroidetes  862962   \n",
       "1  BF638R_0030  NaN   GN  Bacteroidetes  862962   \n",
       "2  BF638R_0032  NaN   GN  Bacteroidetes  862962   \n",
       "3  BF638R_0042  NaN   GN  Bacteroidetes  862962   \n",
       "4  BF638R_0051  NaN   GN  Bacteroidetes  862962   \n",
       "\n",
       "                                       gene_sequence  \\\n",
       "0  ATGACTATTATTTTTCCTTCTCCTATATTCGGACCGGTTCATTCAC...   \n",
       "1  ATGTTACTTCTTTATATGGCATCATTATCTGAGTCCATATACCCGG...   \n",
       "2  ATGACAAAAGGATCTTTATTACGAAAAAGATATACATCGCAATTCT...   \n",
       "3  ATGAGTAAAAAGATTTTTGCGGCCCTGATAGTCGCTGTAGTCGCAA...   \n",
       "4  ATGAATAAACTCACTATAAATGCCTGTCCGCTATGTGGGGGCGCAC...   \n",
       "\n",
       "                                    protein_sequence  strand orthogroup  \\\n",
       "0  MTIIFPSPIFGPVHSRRLGVSLGINLLPSDGKVCSFDCIYCECGYN...       1  OG0003967   \n",
       "1  MLLLYMASLSESIYPGSSARIPGLMGLCTRDDGHRYAGRDKEKTIF...       0        NaN   \n",
       "2  MTKGSLLRKRYTSQFCTKYYPFLLKDYTQSGCSKNHILAATTIVKI...       0        NaN   \n",
       "3  MSKKIFAALIVAVVATFAGYNIYQSQRVESIMSDLTMANVEALAGS...       1  OG0006518   \n",
       "4  MNKLTINACPLCGGAHLKRAMTCTDFYASGEQFDLYTCEDCGFTFT...       1  OG0000156   \n",
       "\n",
       "   operon_pos_1  operon_pos_2 essentiality  \n",
       "0             0             1            1  \n",
       "1             0             0            1  \n",
       "2             0             1            1  \n",
       "3             0             0            1  \n",
       "4             0             1            1  "
      ]
     },
     "execution_count": 7,
     "metadata": {},
     "output_type": "execute_result"
    }
   ],
   "source": [
    "data.head()"
   ]
  },
  {
   "cell_type": "code",
   "execution_count": 8,
   "metadata": {
    "colab": {
     "base_uri": "https://localhost:8080/"
    },
    "executionInfo": {
     "elapsed": 19,
     "status": "ok",
     "timestamp": 1652034260487,
     "user": {
      "displayName": "Ian Lo",
      "userId": "05875249287392026449"
     },
     "user_tz": 240
    },
    "id": "r2Uog2wArJlV",
    "outputId": "5ceb313e-7d52-489a-d24b-d821fc13177d"
   },
   "outputs": [
    {
     "data": {
      "text/plain": [
       "(92624, 14)"
      ]
     },
     "execution_count": 8,
     "metadata": {},
     "output_type": "execute_result"
    }
   ],
   "source": [
    "data.shape"
   ]
  },
  {
   "cell_type": "code",
   "execution_count": 9,
   "metadata": {
    "colab": {
     "base_uri": "https://localhost:8080/"
    },
    "executionInfo": {
     "elapsed": 16,
     "status": "ok",
     "timestamp": 1652034260488,
     "user": {
      "displayName": "Ian Lo",
      "userId": "05875249287392026449"
     },
     "user_tz": 240
    },
    "id": "ZhXY7Bnbp6Gr",
    "outputId": "e79ba68a-d910-4500-be7d-c52c33f5955f"
   },
   "outputs": [
    {
     "data": {
      "text/plain": [
       "0    70349\n",
       "1    22275\n",
       "Name: essentiality, dtype: int64"
      ]
     },
     "execution_count": 9,
     "metadata": {},
     "output_type": "execute_result"
    }
   ],
   "source": [
    "# look at class distribution\n",
    "data.essentiality.value_counts()"
   ]
  },
  {
   "cell_type": "markdown",
   "metadata": {
    "id": "BNAYCiHCcWFt"
   },
   "source": [
    "# Featurization"
   ]
  },
  {
   "cell_type": "markdown",
   "metadata": {
    "id": "1vtm66btFmU2"
   },
   "source": [
    "### GC Content"
   ]
  },
  {
   "cell_type": "code",
   "execution_count": 10,
   "metadata": {
    "id": "Ar4mP6aZ2_0_"
   },
   "outputs": [],
   "source": [
    "def getGCcontent(sequence):\n",
    "    '''\n",
    "    Calculates the GC content of a nucleotide sequence\n",
    "    \n",
    "    Args:\n",
    "        sequence(str): a nucleotide sequence\n",
    "    Returns:\n",
    "        gc(float): GC content of the sequence\n",
    "    '''\n",
    "    \n",
    "    gc = (sequence.count('G') + sequence.count('C'))/len(sequence)\n",
    "    return gc"
   ]
  },
  {
   "cell_type": "markdown",
   "metadata": {
    "id": "arvhj834FqGu"
   },
   "source": [
    "### Codon Frequency"
   ]
  },
  {
   "cell_type": "code",
   "execution_count": 11,
   "metadata": {
    "id": "rsrstU_cCiRj"
   },
   "outputs": [],
   "source": [
    "# codon dictionary\n",
    "CodonDict = {\n",
    "    'TTT': 0, 'TTC': 0, 'TTA': 0, 'TTG': 0, 'CTT': 0,\n",
    "    'CTC': 0, 'CTA': 0, 'CTG': 0, 'ATT': 0, 'ATC': 0,\n",
    "    'ATA': 0, 'ATG': 0, 'GTT': 0, 'GTC': 0, 'GTA': 0,\n",
    "    'GTG': 0, 'TAT': 0, 'TAC': 0, 'TAA': 0, 'TAG': 0,\n",
    "    'CAT': 0, 'CAC': 0, 'CAA': 0, 'CAG': 0, 'AAT': 0,\n",
    "    'AAC': 0, 'AAA': 0, 'AAG': 0, 'GAT': 0, 'GAC': 0,\n",
    "    'GAA': 0, 'GAG': 0, 'TCT': 0, 'TCC': 0, 'TCA': 0,\n",
    "    'TCG': 0, 'CCT': 0, 'CCC': 0, 'CCA': 0, 'CCG': 0,\n",
    "    'ACT': 0, 'ACC': 0, 'ACA': 0, 'ACG': 0, 'GCT': 0,\n",
    "    'GCC': 0, 'GCA': 0, 'GCG': 0, 'TGT': 0, 'TGC': 0,\n",
    "    'TGA': 0, 'TGG': 0, 'CGT': 0, 'CGC': 0, 'CGA': 0,\n",
    "    'CGG': 0, 'AGT': 0, 'AGC': 0, 'AGA': 0, 'AGG': 0,\n",
    "    'GGT': 0, 'GGC': 0, 'GGA': 0, 'GGG': 0}\n",
    "    \n",
    "def getCodonFreq(sequence):\n",
    "    '''\n",
    "    Calculate frequency of all codons in a nucleotide sequence\n",
    "    \n",
    "    Args:\n",
    "        sequence(str): an amino acid sequence\n",
    "    Returns:\n",
    "        FreqList(list): list of frequencies for all codons in the sequence (64 elements)\n",
    "    '''\n",
    "    \n",
    "    tmp_dict = CodonDict.copy()\n",
    "\n",
    "    num_codons = len(sequence)/3\n",
    "    for j in range(0, len(sequence)-2, 3):\n",
    "        codon = sequence[j:j+3]\n",
    "        if codon in CodonDict.keys():\n",
    "            tmp_dict[codon] += 1\n",
    "\n",
    "    tmp_dict.update((x, y/num_codons) for x, y in tmp_dict.items())\n",
    "    FreqList = [tmp_dict[codon] for codon in tmp_dict.keys()]\n",
    "\n",
    "    return FreqList"
   ]
  },
  {
   "cell_type": "markdown",
   "metadata": {
    "id": "l3IQ_lDfFsdi"
   },
   "source": [
    "### Codon Adaptation Index"
   ]
  },
  {
   "cell_type": "code",
   "execution_count": 12,
   "metadata": {
    "colab": {
     "base_uri": "https://localhost:8080/"
    },
    "executionInfo": {
     "elapsed": 3978,
     "status": "ok",
     "timestamp": 1652034293571,
     "user": {
      "displayName": "Ian Lo",
      "userId": "05875249287392026449"
     },
     "user_tz": 240
    },
    "id": "apGc7AqJvsiq",
    "outputId": "31606b22-cc72-4d65-a00f-8bbc40dafdb9"
   },
   "outputs": [],
   "source": [
    "def getCAI(sequence):\n",
    "    '''\n",
    "    Calculate codon adaptation index of a nucleotide sequence\n",
    "    \n",
    "    Args:\n",
    "        sequence(str): a nucleotide sequence\n",
    "    Returns:\n",
    "        score(float): codon adaptation index for the nucleotide sequence\n",
    "    '''\n",
    "    cai = CodonAdaptationIndex()\n",
    "    score = cai.cai_for_gene(sequence)\n",
    "    return score"
   ]
  },
  {
   "cell_type": "markdown",
   "metadata": {
    "id": "nh2R2hYbFu8F"
   },
   "source": [
    "### Protein Sequence AA Frequency"
   ]
  },
  {
   "cell_type": "code",
   "execution_count": 13,
   "metadata": {
    "id": "ruIT6mCIg4RB"
   },
   "outputs": [],
   "source": [
    "# amino acids dictionary\n",
    "AminoAcidDict = {\n",
    "    'A': 0, 'R': 0, 'N': 0, 'D': 0,\n",
    "    'C': 0, 'Q': 0, 'E': 0, 'G': 0,\n",
    "    'H': 0, 'I': 0, 'L': 0, 'K': 0,\n",
    "    'M': 0, 'F': 0, 'P': 0, 'S': 0,\n",
    "    'T': 0, 'W': 0, 'Y': 0, 'V': 0\n",
    "}\n",
    "\n",
    "# returns protein sequence amino acid count / protein length (20 value vector)\n",
    "def getAAFreq(protein_sequence):\n",
    "    '''\n",
    "    Calculate frequency of amino acids in an amino acid frequency\n",
    "    \n",
    "    Args:\n",
    "        protein_sequence(str): an amino acid sequence\n",
    "    Returns:\n",
    "        FreqList(list): list of frequencies for all 20 amino acids in the amino acid sequence\n",
    "    '''\n",
    "    \n",
    "    AminoAcids = AminoAcidDict.copy()\n",
    "\n",
    "    for i in range(0, len(protein_sequence)):\n",
    "        if protein_sequence[i] in AminoAcids:\n",
    "            AminoAcids[protein_sequence[i]] += 1           \n",
    "\n",
    "    FreqList = [AminoAcids[key]/len(protein_sequence) for key in AminoAcids]\n",
    " \n",
    "    return FreqList"
   ]
  },
  {
   "cell_type": "code",
   "execution_count": 14,
   "metadata": {
    "id": "dGAqPh8RUHXT"
   },
   "outputs": [],
   "source": [
    "def featurize(sequence, protein_sequence):\n",
    "    '''\n",
    "    Get nucleotide and amino acid sequence-based features\n",
    "    \n",
    "    Args: \n",
    "        sequence(str): gene sequence\n",
    "        protein_sequence(str): amino acid sequence  \n",
    "    Returns: \n",
    "        X(list): 87 element array including GC content, gene length,\n",
    "        codon frequency, CAI, amino acid frequency\n",
    "    '''\n",
    "    \n",
    "    GC = getGCcontent( sequence )\n",
    "    geneLength = float(len( sequence ))\n",
    "    codonFreq = getCodonFreq( sequence )\n",
    "    CAI = getCAI( sequence )\n",
    "    proteinFeat = getAAFreq(protein_sequence)\n",
    "\n",
    "    X = [geneLength] + [GC] + codonFreq + [CAI] + proteinFeat\n",
    "    \n",
    "    return X"
   ]
  },
  {
   "cell_type": "markdown",
   "metadata": {
    "id": "UHunJd1s-ydr"
   },
   "source": [
    "Features:\n",
    "\n",
    "*   Gene length (numeric)\n",
    "*   GC Content (numeric)\n",
    "*   Codon frequency (64-unit vector)\n",
    "*   Codon Adaptation Index CAI (numeric)\n",
    "*   Protein amino acid frequency (19-unit vector)\n",
    "*   Strand (numeric)\n",
    "*   Operon position (numeric)"
   ]
  },
  {
   "cell_type": "code",
   "execution_count": 15,
   "metadata": {
    "id": "tph1mOzHZsgM"
   },
   "outputs": [],
   "source": [
    "def getXy(df):\n",
    "    \n",
    "    '''\n",
    "    Create inputs for training ML models\n",
    "    \n",
    "    Args:\n",
    "        df(dataframe): dataframe containing gene identifiers, nucleotide sequences,\n",
    "                            amino acid sequences, strand and operon position\n",
    "    Returns:\n",
    "        X(array): array with input features for each gene\n",
    "        y(array): array with labels (0/1) for each gene\n",
    "    '''\n",
    "    \n",
    "    X = []\n",
    "    for i in range(df.shape[0]):\n",
    "        gene_seq = df[\"gene_sequence\"][i]\n",
    "        protein_seq = df[\"protein_sequence\"][i]\n",
    "        feature_vec = featurize(gene_seq, protein_seq) + [df[\"strand\"][i]] +\\\n",
    "            [df[\"operon_pos_1\"][i]] + [df[\"operon_pos_2\"][i]]\n",
    "        X.append(np.array(feature_vec))\n",
    "\n",
    "    X = np.array(X)\n",
    "    y = np.array(df[\"essentiality\"])\n",
    "    return X, y"
   ]
  },
  {
   "cell_type": "markdown",
   "metadata": {
    "id": "xW2ozWgp53km"
   },
   "source": [
    "# Train/Val/Test Split"
   ]
  },
  {
   "cell_type": "markdown",
   "metadata": {
    "id": "5JxFFwJk5rdX"
   },
   "source": [
    "Train/Val/Test split based on groups of orthologous genes; this is done to prevent data leakage between the different data sets."
   ]
  },
  {
   "cell_type": "code",
   "execution_count": 16,
   "metadata": {
    "colab": {
     "base_uri": "https://localhost:8080/"
    },
    "executionInfo": {
     "elapsed": 142,
     "status": "ok",
     "timestamp": 1652034320633,
     "user": {
      "displayName": "Ian Lo",
      "userId": "05875249287392026449"
     },
     "user_tz": 240
    },
    "id": "SeURSZFa5DnQ",
    "outputId": "970dd360-0bb1-48be-89a7-da760cf53cc3"
   },
   "outputs": [
    {
     "name": "stdout",
     "output_type": "stream",
     "text": [
      "82706\n",
      "9918\n"
     ]
    }
   ],
   "source": [
    "# genes in orthogroups\n",
    "data_orthogroup = data.loc[data.orthogroup.notna()]\n",
    "data_orthogroup.index = range(data_orthogroup.shape[0])\n",
    "print(data_orthogroup.shape[0])\n",
    "\n",
    "# genes without orthogroups\n",
    "data_no_orthogroup = data.loc[data.orthogroup.isna()]\n",
    "data_no_orthogroup.index = range(data_no_orthogroup.shape[0])\n",
    "print(data_no_orthogroup.shape[0])"
   ]
  },
  {
   "cell_type": "code",
   "execution_count": 17,
   "metadata": {
    "colab": {
     "base_uri": "https://localhost:8080/"
    },
    "executionInfo": {
     "elapsed": 125,
     "status": "ok",
     "timestamp": 1651985617065,
     "user": {
      "displayName": "Carolin Schulte",
      "userId": "04929166097189432726"
     },
     "user_tz": 240
    },
    "id": "jf-vwlDS2Iep",
    "outputId": "9a3f9a09-466f-48ca-9a29-a6bc654485c8"
   },
   "outputs": [
    {
     "data": {
      "text/plain": [
       "(58222, 7529, 16955)"
      ]
     },
     "execution_count": 17,
     "metadata": {},
     "output_type": "execute_result"
    }
   ],
   "source": [
    "# split genes with orthogroups into train/val/test such that an orthogroup only appears in train or test, not both\n",
    "# 70/10/20 train/val/test\n",
    "gss1 = GroupShuffleSplit(n_splits=1, test_size=0.2, random_state=20)\n",
    "train_val_idx, test_idx = next(gss1.split(data_orthogroup, groups= data_orthogroup[\"orthogroup\"]))\n",
    "orthogroup_train_val = data_orthogroup.iloc[train_val_idx,:]\n",
    "orthogroup_test = data_orthogroup.iloc[test_idx,:]   \n",
    "\n",
    "orthogroup_train_val = orthogroup_train_val.reset_index(drop=True)\n",
    "\n",
    "gss2 = GroupShuffleSplit(n_splits=1, test_size=0.125, random_state=20)\n",
    "train_idx, val_idx = next(gss2.split(orthogroup_train_val, groups=orthogroup_train_val[\"orthogroup\"]))\n",
    "orthogroup_train = orthogroup_train_val.iloc[train_idx,:]\n",
    "orthogroup_val = orthogroup_train_val.iloc[val_idx,:]\n",
    "\n",
    "orthogroup_train.shape[0], orthogroup_val.shape[0], orthogroup_test.shape[0]"
   ]
  },
  {
   "cell_type": "code",
   "execution_count": 18,
   "metadata": {
    "id": "Hu0RAFOkT-TO"
   },
   "outputs": [],
   "source": [
    "# split genes without orthogroups using train_test_split\n",
    "no_orthogroup_train_val, no_orthogroup_test = train_test_split(data_no_orthogroup, test_size=0.2, random_state=20)\n",
    "no_orthogroup_train, no_orthogroup_val = train_test_split(no_orthogroup_train_val, test_size=0.125, random_state=20)"
   ]
  },
  {
   "cell_type": "code",
   "execution_count": 19,
   "metadata": {
    "id": "ak5yNsu-R8AK"
   },
   "outputs": [],
   "source": [
    "# combine orthogroups and no orthogroup data\n",
    "data_train = pd.concat([orthogroup_train, no_orthogroup_train], ignore_index=True, axis=0)\n",
    "data_val = pd.concat([orthogroup_val, no_orthogroup_val], ignore_index=True, axis=0)\n",
    "data_test = pd.concat([orthogroup_test, no_orthogroup_test], ignore_index=True, axis=0)\n",
    "\n",
    "data_train.index = range(data_train.shape[0])\n",
    "data_val.index = range(data_val.shape[0])\n",
    "data_test.index = range(data_test.shape[0])"
   ]
  },
  {
   "cell_type": "code",
   "execution_count": 20,
   "metadata": {
    "colab": {
     "base_uri": "https://localhost:8080/"
    },
    "executionInfo": {
     "elapsed": 9,
     "status": "ok",
     "timestamp": 1651985617240,
     "user": {
      "displayName": "Carolin Schulte",
      "userId": "04929166097189432726"
     },
     "user_tz": 240
    },
    "id": "AjVmVThLSuJa",
    "outputId": "a0f85bc3-23a1-4ba0-ec0a-d3255680da32"
   },
   "outputs": [
    {
     "data": {
      "text/plain": [
       "(65164, 8521, 18939)"
      ]
     },
     "execution_count": 20,
     "metadata": {},
     "output_type": "execute_result"
    }
   ],
   "source": [
    "data_train.shape[0], data_val.shape[0], data_test.shape[0]"
   ]
  },
  {
   "cell_type": "code",
   "execution_count": 21,
   "metadata": {
    "id": "4JxBLHA-VVyg"
   },
   "outputs": [
    {
     "name": "stdout",
     "output_type": "stream",
     "text": [
      "49164\n",
      "16000\n"
     ]
    }
   ],
   "source": [
    "# create feature and label arrays\n",
    "X_train, y_train = getXy(data_train)\n",
    "X_val, y_val = getXy(data_val)\n",
    "X_test, y_test = getXy(data_test)\n",
    "\n",
    "# use this to implement oversampling of essential genes if wanted\n",
    "oversample = False\n",
    "\n",
    "if oversample:\n",
    "    ros = RandomOverSampler(random_state=40)\n",
    "    X_train, y_train = ros.fit_resample(X_train, y_train)\n",
    "    \n",
    "# check oversampling\n",
    "print(np.count_nonzero(y_train==0))\n",
    "print(np.count_nonzero(y_train==1))"
   ]
  },
  {
   "cell_type": "code",
   "execution_count": 22,
   "metadata": {
    "id": "hGmffeYpXACc"
   },
   "outputs": [],
   "source": [
    "# scale features in X\n",
    "scaler = StandardScaler().fit(X_train)\n",
    "X_train = scaler.transform(X_train)\n",
    "X_val = scaler.transform(X_val)\n",
    "X_test = scaler.transform(X_test)"
   ]
  },
  {
   "cell_type": "markdown",
   "metadata": {
    "id": "7q8aeKlAFkPi"
   },
   "source": [
    "# Machine Learning Models"
   ]
  },
  {
   "cell_type": "code",
   "execution_count": 23,
   "metadata": {},
   "outputs": [],
   "source": [
    "# create class weights to upweight positive class if oversampling is not performed\n",
    "pos = np.sum(y_train)\n",
    "neg = len(y_train) - pos\n",
    "\n",
    "weight_for_0 = (1/neg)*(len(y_train/2))\n",
    "weight_for_1 = (1/pos)*(len(y_train/2))\n",
    "\n",
    "class_weights = {0: weight_for_0, 1: weight_for_1}"
   ]
  },
  {
   "cell_type": "code",
   "execution_count": 24,
   "metadata": {},
   "outputs": [],
   "source": [
    "def eval_model(model, method):\n",
    "    '''\n",
    "    Calculate train and test AUC and plot confusion matrix for test set\n",
    "    \n",
    "    Args:\n",
    "        model(model object): a machine learning model (logistic regression, Random Forest, XGBoost, MLP)\n",
    "        method(str): string indicating the type of model (lr, rf, xgb, mlp)\n",
    "    '''\n",
    "    \n",
    "    if method != 'mlp':\n",
    "        train_auc = roc_auc_score(y_train, model.predict_proba(X_train)[:, 1])\n",
    "        test_auc = roc_auc_score(y_test, model.predict_proba(X_test)[:, 1])\n",
    "        test_prediction = model.predict(X_test)\n",
    "        cm_test = confusion_matrix(y_test, test_prediction)\n",
    "    else:\n",
    "        train_auc = roc_auc_score(y_train, model_mlp.predict(X_train))\n",
    "        test_auc = roc_auc_score(y_test, model_mlp.predict(X_test))\n",
    "        test_prediction = model.predict(np.stack(X_test))\n",
    "        cm_test = confusion_matrix(np.argmax(y_test, axis=1), \n",
    "                      np.argmax(test_prediction, axis=1))\n",
    "        \n",
    "    \n",
    "    print(\"The training AUC score is {:.3f}.\\n The testing AUC score is {:.3f}\".format(train_auc, test_auc))\n",
    "    \n",
    "    disp = ConfusionMatrixDisplay(confusion_matrix=cm_test)\n",
    "    disp.plot()"
   ]
  },
  {
   "cell_type": "markdown",
   "metadata": {
    "id": "GeDlbNI2FmPX"
   },
   "source": [
    "### Logistic regression"
   ]
  },
  {
   "cell_type": "code",
   "execution_count": 25,
   "metadata": {},
   "outputs": [
    {
     "name": "stderr",
     "output_type": "stream",
     "text": [
      "\u001b[32m[I 2022-08-24 20:39:19,135]\u001b[0m A new study created in memory with name: no-name-f5ced422-01be-44ce-9562-a0069cac9a9d\u001b[0m\n",
      "\u001b[32m[I 2022-08-24 20:39:20,740]\u001b[0m Trial 0 finished with value: 0.7193065575577486 and parameters: {'penalty': 'l1', 'logistic-regularization': 0.0009759393345999326}. Best is trial 0 with value: 0.7193065575577486.\u001b[0m\n",
      "\u001b[32m[I 2022-08-24 20:39:35,446]\u001b[0m Trial 1 finished with value: 0.7281744128098961 and parameters: {'penalty': 'l1', 'logistic-regularization': 0.015710859154925053}. Best is trial 1 with value: 0.7281744128098961.\u001b[0m\n",
      "\u001b[32m[I 2022-08-24 20:39:36,166]\u001b[0m Trial 2 finished with value: 0.728520773077359 and parameters: {'penalty': 'l2', 'logistic-regularization': 0.027336225914533205}. Best is trial 2 with value: 0.728520773077359.\u001b[0m\n",
      "\u001b[32m[I 2022-08-24 20:39:37,614]\u001b[0m Trial 3 finished with value: 0.7306728331524683 and parameters: {'penalty': 'l2', 'logistic-regularization': 3.755847120065426}. Best is trial 3 with value: 0.7306728331524683.\u001b[0m\n",
      "\u001b[32m[I 2022-08-24 20:39:52,147]\u001b[0m Trial 4 finished with value: 0.7281758100498814 and parameters: {'penalty': 'l1', 'logistic-regularization': 0.01574320678075314}. Best is trial 3 with value: 0.7306728331524683.\u001b[0m\n",
      "\u001b[32m[I 2022-08-24 20:40:10,712]\u001b[0m Trial 5 finished with value: 0.7288421382739738 and parameters: {'penalty': 'l1', 'logistic-regularization': 6.427908035510387}. Best is trial 3 with value: 0.7306728331524683.\u001b[0m\n",
      "\u001b[32m[I 2022-08-24 20:40:29,225]\u001b[0m Trial 6 finished with value: 0.7288415172784248 and parameters: {'penalty': 'l1', 'logistic-regularization': 6.646586406332017}. Best is trial 3 with value: 0.7306728331524683.\u001b[0m\n",
      "\u001b[32m[I 2022-08-24 20:40:47,234]\u001b[0m Trial 7 finished with value: 0.7276567742075708 and parameters: {'penalty': 'l1', 'logistic-regularization': 0.004585841991801475}. Best is trial 3 with value: 0.7306728331524683.\u001b[0m\n",
      "\u001b[32m[I 2022-08-24 20:40:49,556]\u001b[0m Trial 8 finished with value: 0.7278646912798252 and parameters: {'penalty': 'l1', 'logistic-regularization': 0.006661704016532501}. Best is trial 3 with value: 0.7306728331524683.\u001b[0m\n",
      "\u001b[32m[I 2022-08-24 20:40:49,895]\u001b[0m Trial 9 finished with value: 0.7278282077913206 and parameters: {'penalty': 'l2', 'logistic-regularization': 0.001236027661881917}. Best is trial 3 with value: 0.7306728331524683.\u001b[0m\n",
      "\u001b[32m[I 2022-08-24 20:40:51,057]\u001b[0m Trial 10 finished with value: 0.7290745458581925 and parameters: {'penalty': 'l2', 'logistic-regularization': 0.34017887445938366}. Best is trial 3 with value: 0.7306728331524683.\u001b[0m\n",
      "\u001b[32m[I 2022-08-24 20:40:52,281]\u001b[0m Trial 11 finished with value: 0.7292096900145468 and parameters: {'penalty': 'l2', 'logistic-regularization': 0.45139048520690084}. Best is trial 3 with value: 0.7306728331524683.\u001b[0m\n",
      "\u001b[32m[I 2022-08-24 20:40:53,487]\u001b[0m Trial 12 finished with value: 0.7292142698567208 and parameters: {'penalty': 'l2', 'logistic-regularization': 0.4493278842297759}. Best is trial 3 with value: 0.7306728331524683.\u001b[0m\n",
      "\u001b[32m[I 2022-08-24 20:40:54,525]\u001b[0m Trial 13 finished with value: 0.7292280870076864 and parameters: {'penalty': 'l2', 'logistic-regularization': 0.4401925715722515}. Best is trial 3 with value: 0.7306728331524683.\u001b[0m\n",
      "\u001b[32m[I 2022-08-24 20:40:55,950]\u001b[0m Trial 14 finished with value: 0.7299805783642046 and parameters: {'penalty': 'l2', 'logistic-regularization': 1.4117657212839558}. Best is trial 3 with value: 0.7306728331524683.\u001b[0m\n"
     ]
    }
   ],
   "source": [
    "def create_model_lr(trial):\n",
    "    penalty = trial.suggest_categorical('penalty', ['l2', 'l1'])\n",
    "    if penalty == 'l1':\n",
    "        solver = 'saga'\n",
    "    else:\n",
    "        solver = 'lbfgs'\n",
    "        \n",
    "    regularization = trial.suggest_loguniform('logistic-regularization', 1e-4, 10)\n",
    "    model = LogisticRegression(penalty=penalty, C=regularization, solver=solver, class_weight=class_weights,\n",
    "                              max_iter=200)\n",
    "    return model\n",
    "\n",
    "def objective_lr(trial):\n",
    "    model = create_model_lr(trial)\n",
    "    model.fit(X_train, y_train)\n",
    "    y_pred = model.predict_proba(X_val)[:,1]\n",
    "    score = roc_auc_score(y_val, y_pred)\n",
    "    return score\n",
    "\n",
    "study = optuna.create_study(direction='maximize')\n",
    "study.optimize(objective_lr, n_trials=15)"
   ]
  },
  {
   "cell_type": "code",
   "execution_count": 26,
   "metadata": {
    "colab": {
     "base_uri": "https://localhost:8080/"
    },
    "executionInfo": {
     "elapsed": 432111,
     "status": "ok",
     "timestamp": 1651986107260,
     "user": {
      "displayName": "Carolin Schulte",
      "userId": "04929166097189432726"
     },
     "user_tz": 240
    },
    "id": "lwkBWBMTu7-G",
    "outputId": "7fdd4d8a-bd6c-40fe-ad83-f600a6900855"
   },
   "outputs": [
    {
     "name": "stdout",
     "output_type": "stream",
     "text": [
      "The training AUC score is 0.733.\n",
      " The testing AUC score is 0.707\n"
     ]
    },
    {
     "data": {
      "image/png": "[encoded data removed]",
      "text/plain": [
       "<Figure size 432x288 with 2 Axes>"
      ]
     },
     "metadata": {
      "needs_background": "light"
     },
     "output_type": "display_data"
    }
   ],
   "source": [
    "if study.best_params['penalty'] == 'l1':\n",
    "    solver = 'saga'\n",
    "else:\n",
    "    solver = 'lbfgs'\n",
    "    \n",
    "model_lr = LogisticRegression(penalty=study.best_params['penalty'], C=study.best_params['logistic-regularization'],\n",
    "                             solver=solver, max_iter=200, class_weight=class_weights)\n",
    "\n",
    "model_lr.fit(X_train, y_train)\n",
    "eval_model(model_lr, 'lr')"
   ]
  },
  {
   "cell_type": "code",
   "execution_count": 27,
   "metadata": {
    "colab": {
     "base_uri": "https://localhost:8080/"
    },
    "executionInfo": {
     "elapsed": 10648,
     "status": "ok",
     "timestamp": 1651986117902,
     "user": {
      "displayName": "Carolin Schulte",
      "userId": "04929166097189432726"
     },
     "user_tz": 240
    },
    "id": "Qgo_mkv9N5R5",
    "outputId": "4812f6b8-6c7d-4396-ef3b-2673f6fca1ec"
   },
   "outputs": [
    {
     "name": "stdout",
     "output_type": "stream",
     "text": [
      "The top 10 features are P, AAA, ATT, GAG, GAT, GAC, ATC, GAA, S, F\n"
     ]
    }
   ],
   "source": [
    "# report 10 most predictive features \n",
    "feature_names = [\"GC content\", \"Gene length\"] + [codon for codon in CodonDict.keys()] + [\"CAI\"] + \\\n",
    "[amino_acid for amino_acid in AminoAcidDict.keys()] + [\"Strand\", \"Operon position_1\", \"Operon position_2\"]\n",
    "\n",
    "top_feat = np.argpartition(model_lr.coef_[0], -10)[-10:]\n",
    "top_featnames = [feature_names[i] for i in top_feat]\n",
    "print(\"The top 10 features are {}\".format(\", \".join(top_featnames)))"
   ]
  },
  {
   "cell_type": "markdown",
   "metadata": {
    "id": "8h1jcAYBFpXn"
   },
   "source": [
    "### Random Forest"
   ]
  },
  {
   "cell_type": "code",
   "execution_count": 28,
   "metadata": {
    "colab": {
     "base_uri": "https://localhost:8080/"
    },
    "executionInfo": {
     "elapsed": 807481,
     "status": "ok",
     "timestamp": 1651986925798,
     "user": {
      "displayName": "Carolin Schulte",
      "userId": "04929166097189432726"
     },
     "user_tz": 240
    },
    "id": "mxSPOyWlxKOL",
    "outputId": "cec7603a-d4cc-440f-def2-2bc98ccd37c0"
   },
   "outputs": [
    {
     "name": "stderr",
     "output_type": "stream",
     "text": [
      "\u001b[32m[I 2022-08-24 20:41:31,459]\u001b[0m A new study created in memory with name: no-name-3caa05ab-cc57-4a6c-a23f-2ea508b4fc75\u001b[0m\n",
      "\u001b[32m[I 2022-08-24 20:41:56,622]\u001b[0m Trial 0 finished with value: 0.7390056619269182 and parameters: {'n_estimators': 159, 'max_depth': 6, 'min_samples_split': 8}. Best is trial 0 with value: 0.7390056619269182.\u001b[0m\n",
      "\u001b[32m[I 2022-08-24 20:43:25,210]\u001b[0m Trial 1 finished with value: 0.7775829145494599 and parameters: {'n_estimators': 304, 'max_depth': 12, 'min_samples_split': 9}. Best is trial 1 with value: 0.7775829145494599.\u001b[0m\n",
      "\u001b[32m[I 2022-08-24 20:44:15,589]\u001b[0m Trial 2 finished with value: 0.7156328643264449 and parameters: {'n_estimators': 467, 'max_depth': 4, 'min_samples_split': 23}. Best is trial 1 with value: 0.7775829145494599.\u001b[0m\n",
      "\u001b[32m[I 2022-08-24 20:44:57,396]\u001b[0m Trial 3 finished with value: 0.7609684891333541 and parameters: {'n_estimators': 182, 'max_depth': 9, 'min_samples_split': 9}. Best is trial 1 with value: 0.7775829145494599.\u001b[0m\n",
      "\u001b[32m[I 2022-08-24 20:45:22,012]\u001b[0m Trial 4 finished with value: 0.7136720708804319 and parameters: {'n_estimators': 228, 'max_depth': 4, 'min_samples_split': 15}. Best is trial 1 with value: 0.7775829145494599.\u001b[0m\n",
      "\u001b[32m[I 2022-08-24 20:45:36,251]\u001b[0m Trial 5 finished with value: 0.7122362127344453 and parameters: {'n_estimators': 132, 'max_depth': 4, 'min_samples_split': 24}. Best is trial 1 with value: 0.7775829145494599.\u001b[0m\n",
      "\u001b[32m[I 2022-08-24 20:46:03,799]\u001b[0m Trial 6 finished with value: 0.6891587373297502 and parameters: {'n_estimators': 487, 'max_depth': 2, 'min_samples_split': 17}. Best is trial 1 with value: 0.7775829145494599.\u001b[0m\n",
      "\u001b[32m[I 2022-08-24 20:47:02,257]\u001b[0m Trial 7 finished with value: 0.7283001255963497 and parameters: {'n_estimators': 438, 'max_depth': 5, 'min_samples_split': 8}. Best is trial 1 with value: 0.7775829145494599.\u001b[0m\n",
      "\u001b[32m[I 2022-08-24 20:47:38,069]\u001b[0m Trial 8 finished with value: 0.7549421930768311 and parameters: {'n_estimators': 173, 'max_depth': 8, 'min_samples_split': 11}. Best is trial 1 with value: 0.7775829145494599.\u001b[0m\n",
      "\u001b[32m[I 2022-08-24 20:48:35,081]\u001b[0m Trial 9 finished with value: 0.7286067033364538 and parameters: {'n_estimators': 428, 'max_depth': 5, 'min_samples_split': 19}. Best is trial 1 with value: 0.7775829145494599.\u001b[0m\n",
      "\u001b[32m[I 2022-08-24 20:50:16,161]\u001b[0m Trial 10 finished with value: 0.7778263059924518 and parameters: {'n_estimators': 347, 'max_depth': 12, 'min_samples_split': 13}. Best is trial 10 with value: 0.7778263059924518.\u001b[0m\n",
      "\u001b[32m[I 2022-08-24 20:51:53,491]\u001b[0m Trial 11 finished with value: 0.7771104533733255 and parameters: {'n_estimators': 334, 'max_depth': 12, 'min_samples_split': 13}. Best is trial 10 with value: 0.7778263059924518.\u001b[0m\n",
      "\u001b[32m[I 2022-08-24 20:53:26,481]\u001b[0m Trial 12 finished with value: 0.7766912813777408 and parameters: {'n_estimators': 319, 'max_depth': 12, 'min_samples_split': 13}. Best is trial 10 with value: 0.7778263059924518.\u001b[0m\n",
      "\u001b[32m[I 2022-08-24 20:54:59,775]\u001b[0m Trial 13 finished with value: 0.7676086392900778 and parameters: {'n_estimators': 370, 'max_depth': 10, 'min_samples_split': 11}. Best is trial 10 with value: 0.7778263059924518.\u001b[0m\n",
      "\u001b[32m[I 2022-08-24 20:56:03,687]\u001b[0m Trial 14 finished with value: 0.7702140649281897 and parameters: {'n_estimators': 254, 'max_depth': 10, 'min_samples_split': 11}. Best is trial 10 with value: 0.7778263059924518.\u001b[0m\n"
     ]
    }
   ],
   "source": [
    "def create_model_rf(trial):\n",
    "    estimators = trial.suggest_int('n_estimators', 100, 500)\n",
    "    depth = trial.suggest_int('max_depth', 2, 12)\n",
    "    split = trial.suggest_int('min_samples_split', 8, 24)\n",
    "    model = RandomForestClassifier(n_estimators=estimators, max_depth=depth, min_samples_split=split,\n",
    "                                  class_weight=class_weights)\n",
    "    return model\n",
    "\n",
    "def objective_rf(trial):\n",
    "    model = create_model_rf(trial)\n",
    "    model.fit(X_train, y_train)\n",
    "    y_pred = model.predict_proba(X_val)[:,1]\n",
    "    score = roc_auc_score(y_val, y_pred)\n",
    "    return score\n",
    "\n",
    "study = optuna.create_study(direction='maximize')\n",
    "study.optimize(objective_rf, n_trials=15)"
   ]
  },
  {
   "cell_type": "code",
   "execution_count": 32,
   "metadata": {},
   "outputs": [
    {
     "name": "stdout",
     "output_type": "stream",
     "text": [
      "The training AUC score is 0.955.\n",
      " The testing AUC score is 0.753\n"
     ]
    },
    {
     "data": {
      "image/png": "[encoded data removed]",
      "text/plain": [
       "<Figure size 432x288 with 2 Axes>"
      ]
     },
     "metadata": {
      "needs_background": "light"
     },
     "output_type": "display_data"
    }
   ],
   "source": [
    "model_rf = RandomForestClassifier(n_estimators=study.best_params['n_estimators'], \n",
    "                                  max_depth=study.best_params['max_depth'],\n",
    "                                  min_samples_split=study.best_params['min_samples_split'], \n",
    "                                  class_weight=class_weights)\n",
    "\n",
    "model_rf.fit(X_train, y_train)\n",
    "eval_model(model_rf, 'rf')"
   ]
  },
  {
   "cell_type": "markdown",
   "metadata": {},
   "source": [
    "### XGBoost"
   ]
  },
  {
   "cell_type": "code",
   "execution_count": 33,
   "metadata": {},
   "outputs": [
    {
     "name": "stderr",
     "output_type": "stream",
     "text": [
      "\u001b[32m[I 2022-08-24 20:58:40,127]\u001b[0m A new study created in memory with name: no-name-a74f9f3d-727a-4e5a-b6ce-dc2f86f44c7b\u001b[0m\n",
      "\u001b[32m[I 2022-08-24 20:58:42,018]\u001b[0m Trial 0 finished with value: 0.7677396305386981 and parameters: {'lambda': 0.8658321739222782, 'alpha': 6.607549074155665, 'colsample_bytree': 0.7331012341131735, 'max_depth': 3, 'subsample': 0.4200010656062225}. Best is trial 0 with value: 0.7677396305386981.\u001b[0m\n",
      "\u001b[32m[I 2022-08-24 20:58:49,046]\u001b[0m Trial 1 finished with value: 0.7568027733661219 and parameters: {'lambda': 0.06774491644018785, 'alpha': 0.05023735617664203, 'colsample_bytree': 0.6402762154783278, 'max_depth': 10, 'subsample': 0.5127130285542091}. Best is trial 0 with value: 0.7677396305386981.\u001b[0m\n",
      "\u001b[32m[I 2022-08-24 20:58:50,012]\u001b[0m Trial 2 finished with value: 0.730317856571763 and parameters: {'lambda': 4.502371681923247, 'alpha': 8.291400217266343, 'colsample_bytree': 0.7275481442727387, 'max_depth': 1, 'subsample': 0.6565469649151738}. Best is trial 0 with value: 0.7677396305386981.\u001b[0m\n",
      "\u001b[32m[I 2022-08-24 20:58:54,563]\u001b[0m Trial 3 finished with value: 0.7795022177303544 and parameters: {'lambda': 1.6329730734279992, 'alpha': 2.116595552538563, 'colsample_bytree': 0.7816579873168504, 'max_depth': 6, 'subsample': 0.5537749413299728}. Best is trial 3 with value: 0.7795022177303544.\u001b[0m\n",
      "\u001b[32m[I 2022-08-24 20:58:58,265]\u001b[0m Trial 4 finished with value: 0.774762469202502 and parameters: {'lambda': 0.023031942587266426, 'alpha': 0.11559997804359008, 'colsample_bytree': 0.6405913965899168, 'max_depth': 6, 'subsample': 0.5336623130784216}. Best is trial 3 with value: 0.7795022177303544.\u001b[0m\n",
      "\u001b[32m[I 2022-08-24 20:59:02,639]\u001b[0m Trial 5 finished with value: 0.7709325567783993 and parameters: {'lambda': 0.974276690746051, 'alpha': 1.5459867191613947, 'colsample_bytree': 0.7027529042833378, 'max_depth': 7, 'subsample': 0.4045588053723355}. Best is trial 3 with value: 0.7795022177303544.\u001b[0m\n",
      "\u001b[32m[I 2022-08-24 20:59:03,605]\u001b[0m Trial 6 finished with value: 0.7324300176828483 and parameters: {'lambda': 0.04995600572423745, 'alpha': 0.6274208090484428, 'colsample_bytree': 0.7845103350402498, 'max_depth': 1, 'subsample': 0.4751656831701661}. Best is trial 3 with value: 0.7795022177303544.\u001b[0m\n",
      "\u001b[32m[I 2022-08-24 20:59:07,411]\u001b[0m Trial 7 finished with value: 0.7761904872796824 and parameters: {'lambda': 0.014161239601922554, 'alpha': 0.20239117560874634, 'colsample_bytree': 0.6536394429109064, 'max_depth': 6, 'subsample': 0.587968171785109}. Best is trial 3 with value: 0.7795022177303544.\u001b[0m\n",
      "\u001b[32m[I 2022-08-24 20:59:09,939]\u001b[0m Trial 8 finished with value: 0.775112555443259 and parameters: {'lambda': 0.02979995895936138, 'alpha': 0.5859076466145041, 'colsample_bytree': 0.7177364373916226, 'max_depth': 4, 'subsample': 0.48703096983027816}. Best is trial 3 with value: 0.7795022177303544.\u001b[0m\n",
      "\u001b[32m[I 2022-08-24 20:59:16,638]\u001b[0m Trial 9 finished with value: 0.7767547393604057 and parameters: {'lambda': 2.7884195934615765, 'alpha': 1.4215640276932382, 'colsample_bytree': 0.6324046094349038, 'max_depth': 9, 'subsample': 0.5991988024498659}. Best is trial 3 with value: 0.7795022177303544.\u001b[0m\n",
      "\u001b[32m[I 2022-08-24 20:59:23,274]\u001b[0m Trial 10 finished with value: 0.7727047228263991 and parameters: {'lambda': 0.25858782937344577, 'alpha': 0.021070425456151308, 'colsample_bytree': 0.7932046200161152, 'max_depth': 8, 'subsample': 0.6945920404925409}. Best is trial 3 with value: 0.7795022177303544.\u001b[0m\n",
      "\u001b[32m[I 2022-08-24 20:59:31,040]\u001b[0m Trial 11 finished with value: 0.7773654496706395 and parameters: {'lambda': 7.482001768342618, 'alpha': 2.6105820316538852, 'colsample_bytree': 0.6050317181506244, 'max_depth': 10, 'subsample': 0.597737067024265}. Best is trial 3 with value: 0.7795022177303544.\u001b[0m\n",
      "\u001b[32m[I 2022-08-24 20:59:38,777]\u001b[0m Trial 12 finished with value: 0.7811611685273246 and parameters: {'lambda': 9.089639934983202, 'alpha': 3.2854227960941675, 'colsample_bytree': 0.6052733408864889, 'max_depth': 10, 'subsample': 0.5848596410788626}. Best is trial 12 with value: 0.7811611685273246.\u001b[0m\n",
      "\u001b[32m[I 2022-08-24 20:59:41,580]\u001b[0m Trial 13 finished with value: 0.7798947645417752 and parameters: {'lambda': 1.5570042615185886, 'alpha': 3.1319224921348443, 'colsample_bytree': 0.7687293503140952, 'max_depth': 4, 'subsample': 0.5538995069101653}. Best is trial 12 with value: 0.7811611685273246.\u001b[0m\n",
      "\u001b[32m[I 2022-08-24 20:59:44,111]\u001b[0m Trial 14 finished with value: 0.7775227167934274 and parameters: {'lambda': 0.3359523830112519, 'alpha': 5.309700915311812, 'colsample_bytree': 0.6712770268231183, 'max_depth': 4, 'subsample': 0.6240936618248696}. Best is trial 12 with value: 0.7811611685273246.\u001b[0m\n"
     ]
    }
   ],
   "source": [
    "def create_model_xgb(trial):\n",
    "    l = trial.suggest_loguniform('lambda', 1e-2, 10)\n",
    "    alpha = trial.suggest_loguniform('alpha', 1e-2, 10)\n",
    "    colsample_bytree = trial.suggest_float('colsample_bytree', 0.6, 0.8)\n",
    "    depth = trial.suggest_int('max_depth', 1, 10)\n",
    "    subsample = trial.suggest_float('subsample', 0.4, 0.7)\n",
    "    model = XGBClassifier(use_label_encoder=False, objective='binary:logistic', eval_metric='auc',\n",
    "                         booster='gbtree', reg_lambda=l, alpha=alpha, max_depth=depth,\n",
    "                         colsample_bytree=colsample_bytree, subsample=subsample, scale_pos_weight=neg/pos)\n",
    "    return model\n",
    "\n",
    "def objective_xgb(trial):\n",
    "    model = create_model_xgb(trial)\n",
    "    model.fit(X_train, y_train)\n",
    "    y_pred = model.predict_proba(X_val)[:,1]\n",
    "    score = roc_auc_score(y_val, y_pred)\n",
    "    return score\n",
    "\n",
    "study = optuna.create_study(direction='maximize')\n",
    "study.optimize(objective_xgb, n_trials=15)"
   ]
  },
  {
   "cell_type": "code",
   "execution_count": 34,
   "metadata": {},
   "outputs": [
    {
     "name": "stdout",
     "output_type": "stream",
     "text": [
      "The training AUC score is 0.999.\n",
      " The testing AUC score is 0.767\n"
     ]
    },
    {
     "data": {
      "image/png": "[encoded data removed]",
      "text/plain": [
       "<Figure size 432x288 with 2 Axes>"
      ]
     },
     "metadata": {
      "needs_background": "light"
     },
     "output_type": "display_data"
    }
   ],
   "source": [
    "model_xgb = XGBClassifier(use_label_encoder=False, objective='binary:logistic', eval_metric='auc',\n",
    "                          booster='gbtree', reg_lambda=study.best_params['lambda'], alpha=study.best_params['alpha'],\n",
    "                          scale_pos_weight=neg/pos, max_depth=study.best_params['max_depth'],\n",
    "                          colsample_bytree=study.best_params['colsample_bytree'], \n",
    "                          subsample=study.best_params['subsample'])\n",
    "\n",
    "model_xgb.fit(X_train, y_train)\n",
    "eval_model(model_xgb, 'xgb')"
   ]
  },
  {
   "cell_type": "markdown",
   "metadata": {
    "id": "bPi1ZQuXw-Mo"
   },
   "source": [
    "# MLP"
   ]
  },
  {
   "cell_type": "code",
   "execution_count": 35,
   "metadata": {},
   "outputs": [],
   "source": [
    "num_classes = 2\n",
    "y_train = to_categorical(y_train, num_classes)\n",
    "y_val = to_categorical(y_val, num_classes)\n",
    "y_test = to_categorical(y_test, num_classes)\n",
    "\n",
    "batch_size = 128\n",
    "epochs = 100"
   ]
  },
  {
   "cell_type": "code",
   "execution_count": 37,
   "metadata": {},
   "outputs": [
    {
     "name": "stderr",
     "output_type": "stream",
     "text": [
      "\u001b[32m[I 2022-08-24 21:13:45,704]\u001b[0m A new study created in memory with name: no-name-3290baa1-fbcf-40ab-8937-1fc1c7b9bc3f\u001b[0m\n",
      "\u001b[32m[I 2022-08-24 21:15:54,278]\u001b[0m Trial 0 finished with value: 0.769393265247345 and parameters: {'n_layers': 3, 'n_units_l0': 4, 'dropout_l0': 0.3760271325183997, 'n_units_l1': 7, 'dropout_l1': 0.4070428166825616, 'n_units_l2': 99, 'dropout_l2': 0.36885229962114685, 'learning_rate': 0.059133390433588104}. Best is trial 0 with value: 0.769393265247345.\u001b[0m\n",
      "\u001b[32m[I 2022-08-24 21:17:05,350]\u001b[0m Trial 1 finished with value: 0.8102617859840393 and parameters: {'n_layers': 1, 'n_units_l0': 12, 'dropout_l0': 0.3225343308894136, 'learning_rate': 0.0009542549334182096}. Best is trial 1 with value: 0.8102617859840393.\u001b[0m\n",
      "\u001b[32m[I 2022-08-24 21:18:03,507]\u001b[0m Trial 2 finished with value: 0.8209121227264404 and parameters: {'n_layers': 4, 'n_units_l0': 22, 'dropout_l0': 0.3207751205156576, 'n_units_l1': 9, 'dropout_l1': 0.3694413887901066, 'n_units_l2': 94, 'dropout_l2': 0.3717278304490685, 'n_units_l3': 19, 'dropout_l3': 0.43487096164970973, 'learning_rate': 0.009763681044928401}. Best is trial 2 with value: 0.8209121227264404.\u001b[0m\n",
      "\u001b[32m[I 2022-08-24 21:19:23,487]\u001b[0m Trial 3 finished with value: 0.8059927821159363 and parameters: {'n_layers': 1, 'n_units_l0': 6, 'dropout_l0': 0.3840684647072822, 'learning_rate': 0.0009089267342294447}. Best is trial 2 with value: 0.8209121227264404.\u001b[0m\n",
      "\u001b[32m[I 2022-08-24 21:21:36,250]\u001b[0m Trial 4 finished with value: 0.8132320046424866 and parameters: {'n_layers': 3, 'n_units_l0': 5, 'dropout_l0': 0.42892817434878977, 'n_units_l1': 202, 'dropout_l1': 0.3210685196374818, 'n_units_l2': 116, 'dropout_l2': 0.305023030734812, 'learning_rate': 0.00021457863243604038}. Best is trial 2 with value: 0.8209121227264404.\u001b[0m\n",
      "\u001b[32m[I 2022-08-24 21:25:19,030]\u001b[0m Trial 5 finished with value: 0.8147624135017395 and parameters: {'n_layers': 1, 'n_units_l0': 226, 'dropout_l0': 0.30942306040654644, 'learning_rate': 3.7654374437247574e-05}. Best is trial 2 with value: 0.8209121227264404.\u001b[0m\n",
      "\u001b[32m[I 2022-08-24 21:30:14,631]\u001b[0m Trial 6 finished with value: 0.7693541646003723 and parameters: {'n_layers': 4, 'n_units_l0': 52, 'dropout_l0': 0.45492445923949404, 'n_units_l1': 33, 'dropout_l1': 0.40882042541629143, 'n_units_l2': 131, 'dropout_l2': 0.38436240143851846, 'n_units_l3': 54, 'dropout_l3': 0.31831723841404225, 'learning_rate': 2.1812780338443328e-05}. Best is trial 2 with value: 0.8209121227264404.\u001b[0m\n",
      "\u001b[32m[I 2022-08-24 21:32:37,800]\u001b[0m Trial 7 finished with value: 0.8168249130249023 and parameters: {'n_layers': 3, 'n_units_l0': 8, 'dropout_l0': 0.46658846259158065, 'n_units_l1': 166, 'dropout_l1': 0.3509819282318888, 'n_units_l2': 4, 'dropout_l2': 0.3596540890306104, 'learning_rate': 0.00013071010241352417}. Best is trial 2 with value: 0.8209121227264404.\u001b[0m\n",
      "\u001b[32m[I 2022-08-24 21:35:53,966]\u001b[0m Trial 8 finished with value: 0.8199870586395264 and parameters: {'n_layers': 1, 'n_units_l0': 87, 'dropout_l0': 0.3751964289783528, 'learning_rate': 0.00014544984474209184}. Best is trial 2 with value: 0.8209121227264404.\u001b[0m\n",
      "\u001b[32m[I 2022-08-24 21:37:04,062]\u001b[0m Trial 9 finished with value: 0.769393265247345 and parameters: {'n_layers': 4, 'n_units_l0': 56, 'dropout_l0': 0.43636075740552527, 'n_units_l1': 4, 'dropout_l1': 0.4333087262513911, 'n_units_l2': 80, 'dropout_l2': 0.3978715277890356, 'n_units_l3': 4, 'dropout_l3': 0.39451596791684385, 'learning_rate': 0.018346479471711027}. Best is trial 2 with value: 0.8209121227264404.\u001b[0m\n",
      "\u001b[32m[I 2022-08-24 21:39:01,090]\u001b[0m Trial 10 finished with value: 0.8337675333023071 and parameters: {'n_layers': 2, 'n_units_l0': 19, 'dropout_l0': 0.49685760858134714, 'n_units_l1': 20, 'dropout_l1': 0.4842284330310175, 'learning_rate': 0.009553812675181668}. Best is trial 10 with value: 0.8337675333023071.\u001b[0m\n",
      "\u001b[32m[I 2022-08-24 21:39:59,705]\u001b[0m Trial 11 finished with value: 0.8175376653671265 and parameters: {'n_layers': 2, 'n_units_l0': 19, 'dropout_l0': 0.49132600376456276, 'n_units_l1': 17, 'dropout_l1': 0.4872028732236248, 'learning_rate': 0.008175672655746305}. Best is trial 10 with value: 0.8337675333023071.\u001b[0m\n",
      "\u001b[32m[I 2022-08-24 21:40:47,800]\u001b[0m Trial 12 finished with value: 0.8347942233085632 and parameters: {'n_layers': 2, 'n_units_l0': 26, 'dropout_l0': 0.3435429389088601, 'n_units_l1': 20, 'dropout_l1': 0.4988398586064377, 'learning_rate': 0.006552767815637276}. Best is trial 12 with value: 0.8347942233085632.\u001b[0m\n",
      "\u001b[32m[I 2022-08-24 21:42:56,602]\u001b[0m Trial 13 finished with value: 0.851159930229187 and parameters: {'n_layers': 2, 'n_units_l0': 34, 'dropout_l0': 0.348140179694126, 'n_units_l1': 37, 'dropout_l1': 0.4937683972954258, 'learning_rate': 0.004082702215642763}. Best is trial 13 with value: 0.851159930229187.\u001b[0m\n",
      "\u001b[32m[I 2022-08-24 21:44:59,458]\u001b[0m Trial 14 finished with value: 0.848740816116333 and parameters: {'n_layers': 2, 'n_units_l0': 36, 'dropout_l0': 0.345100855669049, 'n_units_l1': 73, 'dropout_l1': 0.4577400030732411, 'learning_rate': 0.0031253511066932816}. Best is trial 13 with value: 0.851159930229187.\u001b[0m\n"
     ]
    }
   ],
   "source": [
    "def create_model_mlp(trial):\n",
    "    n_layers = trial.suggest_int('n_layers', 1, 4)\n",
    "    model = Sequential()\n",
    "    for i in range(n_layers):\n",
    "        num_hidden = trial.suggest_int('n_units_l{}'.format(i), 4, 256, log=True)\n",
    "        model.add(Dense(num_hidden, activation='relu'))\n",
    "        dropout = trial.suggest_float('dropout_l{}'.format(i), 0.3, 0.5)\n",
    "        model.add(Dropout(rate=dropout))\n",
    "    model.add(Dense(num_classes, activation='softmax'))\n",
    "    \n",
    "    learning_rate = trial.suggest_float('learning_rate', 1e-5, 1e-1, log=True)\n",
    "    model.compile(\n",
    "        loss='binary_crossentropy',\n",
    "        optimizer=Adam(learning_rate=learning_rate),\n",
    "        metrics=['AUC']\n",
    "    )\n",
    "    \n",
    "    return model\n",
    "\n",
    "early_stopping = EarlyStopping(\n",
    "    monitor='val_loss',\n",
    "    verbose=0,\n",
    "    patience=15,\n",
    "    mode='min',\n",
    "    restore_best_weights=True\n",
    ")\n",
    "\n",
    "def objective_mlp(trial):\n",
    "    model = create_model_mlp(trial)\n",
    "    model.fit(X_train, y_train, batch_size=batch_size, callbacks=[early_stopping], epochs=epochs,\n",
    "             validation_data=(X_val, y_val), verbose=0, class_weight=class_weights)\n",
    "    score = model.evaluate(X_val, y_val, verbose=0)\n",
    "    return score[1]\n",
    "\n",
    "study = optuna.create_study(direction='maximize')\n",
    "study.optimize(objective_mlp, n_trials=15)"
   ]
  },
  {
   "cell_type": "code",
   "execution_count": 46,
   "metadata": {},
   "outputs": [],
   "source": [
    "input_shape = X_train.shape[1]\n",
    "model_mlp = Sequential()\n",
    "j = 0\n",
    "\n",
    "for key, value in study.best_params.items():\n",
    "    if not key.__contains__('n_units') and not key.__contains__('dropout'):\n",
    "        continue\n",
    "    else:\n",
    "        if key.__contains__('n_units'):\n",
    "            if j == 0:\n",
    "                model_mlp.add(Dense(value, input_shape=(input_shape,), activation=\"relu\"))\n",
    "                j += 1\n",
    "            else:\n",
    "                model_mlp.add(Dense(value, activation=\"relu\"))\n",
    "        else:\n",
    "            model_mlp.add(Dropout(rate=value))\n",
    "\n",
    "model_mlp.add(Dense(num_classes, activation=\"softmax\"))\n",
    "\n",
    "model_mlp.compile(loss=\"binary_crossentropy\", optimizer=Adam(learning_rate=study.best_params['learning_rate']),\n",
    "              metrics=['AUC'])"
   ]
  },
  {
   "cell_type": "code",
   "execution_count": 47,
   "metadata": {},
   "outputs": [],
   "source": [
    "es = EarlyStopping(monitor='val_loss', mode='min', verbose=0, patience=20, restore_best_weights=True)\n",
    "\n",
    "history = model_mlp.fit(X_train, y_train, batch_size=batch_size, epochs=500, validation_data=(X_val, y_val),\n",
    "        verbose=0, class_weight=class_weights, callbacks = [es])"
   ]
  },
  {
   "cell_type": "code",
   "execution_count": 48,
   "metadata": {},
   "outputs": [
    {
     "name": "stdout",
     "output_type": "stream",
     "text": [
      "The training AUC score is 0.836.\n",
      " The testing AUC score is 0.799\n"
     ]
    },
    {
     "data": {
      "image/png": "[encoded data removed]",
      "text/plain": [
       "<Figure size 432x288 with 2 Axes>"
      ]
     },
     "metadata": {
      "needs_background": "light"
     },
     "output_type": "display_data"
    }
   ],
   "source": [
    "eval_model(model_mlp, 'mlp')"
   ]
  },
  {
   "cell_type": "code",
   "execution_count": 49,
   "metadata": {
    "id": "FiOlcO46OcCD"
   },
   "outputs": [
    {
     "name": "stdout",
     "output_type": "stream",
     "text": [
      "              precision    recall  f1-score   support\n",
      "\n",
      "           0       0.87      0.83      0.85     14629\n",
      "           1       0.51      0.59      0.54      4310\n",
      "\n",
      "    accuracy                           0.78     18939\n",
      "   macro avg       0.69      0.71      0.70     18939\n",
      "weighted avg       0.79      0.78      0.78     18939\n",
      "\n"
     ]
    }
   ],
   "source": [
    "y_true = np.argmax(y_test, axis=1)\n",
    "y_pred = np.argmax(model_mlp.predict(np.stack(X_test)), axis=1)\n",
    "print(classification_report(y_true, y_pred))"
   ]
  },
  {
   "cell_type": "code",
   "execution_count": 50,
   "metadata": {
    "id": "9qUN-HNPTdoK"
   },
   "outputs": [
    {
     "data": {
      "image/png": "[encoded data removed]",
      "text/plain": [
       "<Figure size 432x288 with 1 Axes>"
      ]
     },
     "metadata": {
      "needs_background": "light"
     },
     "output_type": "display_data"
    }
   ],
   "source": [
    "fpr, tpr, thresholds = sklearn.metrics.roc_curve(y_true, model_mlp.predict(np.stack(X_test))[:,1])\n",
    "roc_auc = sklearn.metrics.auc(fpr, tpr)\n",
    "\n",
    "fig = sklearn.metrics.RocCurveDisplay(fpr=fpr, tpr=tpr, roc_auc=roc_auc).plot()\n",
    "plt.plot([0, 1], [0, 1], '--')\n",
    "plt.show()"
   ]
  },
  {
   "cell_type": "code",
   "execution_count": null,
   "metadata": {},
   "outputs": [],
   "source": []
  }
 ],
 "metadata": {
  "accelerator": "GPU",
  "colab": {
   "collapsed_sections": [],
   "machine_shape": "hm",
   "name": "ReferenceModel.ipynb",
   "provenance": [
    {
     "file_id": "1ocBbjcmpp7l1gqSLdG0LeLddcIvJZbxp",
     "timestamp": 1651911034260
    },
    {
     "file_id": "1meSxttGE6vJxAo1RzXdADsYgZAqkME9f",
     "timestamp": 1651858789682
    }
   ]
  },
  "kernelspec": {
   "display_name": "Python 3 (ipykernel)",
   "language": "python",
   "name": "python3"
  },
  "language_info": {
   "codemirror_mode": {
    "name": "ipython",
    "version": 3
   },
   "file_extension": ".py",
   "mimetype": "text/x-python",
   "name": "python",
   "nbconvert_exporter": "python",
   "pygments_lexer": "ipython3",
   "version": "3.9.12"
  }
 },
 "nbformat": 4,
 "nbformat_minor": 1
}
